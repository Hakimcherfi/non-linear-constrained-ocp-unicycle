{
 "cells": [
  {
   "cell_type": "code",
   "execution_count": 1,
   "id": "eb4a3358",
   "metadata": {},
   "outputs": [
    {
     "name": "stdout",
     "output_type": "stream",
     "text": [
      "[[500000.]]\n",
      "[[497081.07283929]]\n"
     ]
    },
    {
     "data": {
      "text/plain": [
       "(-2.0, 2.0, -2.0, 2.0)"
      ]
     },
     "execution_count": 1,
     "metadata": {},
     "output_type": "execute_result"
    },
    {
     "data": {
      "image/png": "[encoded data removed]",
      "text/plain": [
       "<Figure size 432x288 with 1 Axes>"
      ]
     },
     "metadata": {
      "needs_background": "light"
     },
     "output_type": "display_data"
    }
   ],
   "source": [
    "from unicycle_utils import plotUnicycle\n",
    "from matplotlib import pyplot as plt\n",
    "from algebra import *\n",
    "from dynamicsandcostunicycle import *\n",
    "\n",
    "def subgains(x,u):\n",
    "    T = x.shape[1]\n",
    "    # a t = T (T du sous probleme)\n",
    "    Vxx = Qxx(x[:,-1:],np.zeros((m,1)))\n",
    "    Vzx = np.zeros((n,n))\n",
    "    Vzz = np.zeros((n,n))\n",
    "    vx1 = qx(x[:,-1:],np.zeros((m,1)))\n",
    "    vz1 = np.zeros((n,1))\n",
    "    \n",
    "    Hx = np.eye(n)\n",
    "    Hz = -1.*np.eye((n))\n",
    "    h1 = np.zeros((n,1))\n",
    "\n",
    "    Kxl = []\n",
    "    Kzl= []\n",
    "    k1l = []\n",
    "    \n",
    "    for t in range(T-1,-1,-1):\n",
    "        # a t < T\n",
    "        Mxx = Qxx(x[:,t:t+1],u[:,t:t+1])+Fx(x[:,t:t+1],u[:,t:t+1]).T@Vxx@Fx(x[:,t:t+1],u[:,t:t+1])\n",
    "        Mux = Fu(x[:,t:t+1],u[:,t:t+1]).T@Vxx@Fx(x[:,t:t+1],u[:,t:t+1]) + Qux(x[:,t:t+1],u[:,t:t+1])\n",
    "        Mzu = Vzx@Fu(x[:,t:t+1],u[:,t:t+1])\n",
    "        Mzx = Vzx@Fx(x[:,t:t+1],u[:,t:t+1])\n",
    "        Mzz = Vzz\n",
    "        Muu = Quu(x[:,t:t+1],u[:,t:t+1]) + Fu(x[:,t:t+1],u[:,t:t+1]).T@Vxx@Fu(x[:,t:t+1],u[:,t:t+1])\n",
    "        mx1 = Fx(x[:,t:t+1],u[:,t:t+1]).T@vx1 + qx(x[:,t:t+1],u[:,t:t+1])\n",
    "        mu1 = Fu(x[:,t:t+1],u[:,t:t+1]).T@vx1 + qu(x[:,t:t+1],u[:,t:t+1])\n",
    "        mz1 = vz1\n",
    "        Nx = Hx@Fx(x[:,t:t+1],u[:,t:t+1])\n",
    "        Nu = Hx@Fu(x[:,t:t+1],u[:,t:t+1])\n",
    "        Nz = Hz\n",
    "        n1 = h1 + Hx@f1(x[:,t:t+1],u[:,t:t+1])\n",
    "        Zw = null_space(Nu)\n",
    "        Py = orth(Nu.T)\n",
    "        A = Py@linalg.pinv(Nu@Py)\n",
    "        B = Zw@linalg.inv(Zw.T@Muu@Zw)@(Zw.T)\n",
    "        \n",
    "        #calcul gains\n",
    "        Kx = -A@Nx -B@Mux\n",
    "        Kz = -A@Nz -B@(Mzu.T)\n",
    "        k1 = -A@n1 -B@mu1\n",
    "        Kxl.append(Kx)\n",
    "        Kzl.append(Kz)\n",
    "        k1l.append(k1)\n",
    "        if (False):\n",
    "            print(\"t={}\".format(t))\n",
    "            print(\"Nu={}\".format(Nu))\n",
    "            print(\"Py={}\".format(Py))\n",
    "            print(\"Zw={}\".format(Zw))\n",
    "            print(\"A={}\".format(A))\n",
    "            print(\"B={}\".format(B))\n",
    "            if (Py.shape==((m,m))):\n",
    "                print(\"Py==Im ? : {}\".format((Py==np.eye(m)).all()))\n",
    "            print(\"A*Nu == Im ? : {}\".format((A@Nu==np.eye(m)).all()))\n",
    "            print(\"A*Nu is close to Im ? : {}\".format(np.allclose(A@Nu,np.eye(m))))\n",
    "            print(\"Hxt+1 :{}\".format(Hx))    \n",
    "        #maj cout\n",
    "        Vxx = Mxx+Mux.T@Kx+Kx.T@Mux+Kx.T@Muu@Kx\n",
    "        Vzx = Mzx+Mzu@Kx+Kz.T@Mux+Kz.T@Muu@Kx\n",
    "        Vzz = Mzz+Kz.T@Mzu.T+Mzu@Kz+Kz.T@Muu@Kz\n",
    "        vx1 = mx1+Kx.T@mu1+(Mux.T+Kx.T@Muu)@k1\n",
    "        vz1 = mz1+Mzu@k1+Kz.T@mu1+Kz.T@Muu@k1\n",
    "        Hx = (np.eye(n)-Nu@A)@Nx\n",
    "        Hz = (np.eye(n)-Nu@A)@Nz\n",
    "        h1 = (np.eye(n)-Nu@A)@n1\n",
    "    return Kxl,Kzl,k1l\n",
    "\n",
    "def subroll(x,u,Kx,Kz,k1):\n",
    "    T = len(Kx)\n",
    "    for t in range(T):\n",
    "        u[:,t:t+1] = Kx[-1]@x[:,t:t+1]+Kz[-1]@x[:,-1:]+k1[-1]\n",
    "        x[:,t+1:t+2] = next_state(x[:,t:t+1],u[:,t:t+1])\n",
    "        Kx.pop()\n",
    "        Kz.pop()\n",
    "        k1.pop()\n",
    "    return x,u\n",
    "\n",
    "def constrainedLQR(x,u):\n",
    "    Kxl,Kzl,k1l = subgains(x,u)\n",
    "    return subroll(x,u,Kxl,Kzl,k1l)\n",
    "    \n",
    "def calcul_cout(x,u):\n",
    "    sumcosts = 0.\n",
    "    for t in range(0,T):\n",
    "        sumcosts += cost(x[:,t:t+1],u[:,t:t+1])\n",
    "    #sumcosts += finalcost(x[:,T:T+1])\n",
    "    return sumcosts\n",
    "\n",
    "print(calcul_cout(x,u))\n",
    "x,u = constrainedLQR(x,u)\n",
    "print(calcul_cout(x,u))\n",
    "\n",
    "\n",
    "for t in range(T+1):\n",
    "    plotUnicycle(x[:,t:t+1])\n",
    "plt.axis([-2, 2., -2., 2.])"
   ]
  },
  {
   "cell_type": "code",
   "execution_count": null,
   "id": "49629695",
   "metadata": {},
   "outputs": [],
   "source": []
  }
 ],
 "metadata": {
  "kernelspec": {
   "display_name": "Python 3",
   "language": "python",
   "name": "python3"
  },
  "language_info": {
   "codemirror_mode": {
    "name": "ipython",
    "version": 3
   },
   "file_extension": ".py",
   "mimetype": "text/x-python",
   "name": "python",
   "nbconvert_exporter": "python",
   "pygments_lexer": "ipython3",
   "version": "3.9.4"
  }
 },
 "nbformat": 4,
 "nbformat_minor": 5
}
